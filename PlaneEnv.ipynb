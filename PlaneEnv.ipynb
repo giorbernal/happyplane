{
 "cells": [
  {
   "cell_type": "code",
   "execution_count": 7,
   "metadata": {
    "collapsed": true
   },
   "outputs": [],
   "source": [
    "# Define an environment at OpenAI style"
   ]
  },
  {
   "cell_type": "code",
   "execution_count": 8,
   "metadata": {
    "collapsed": true
   },
   "outputs": [],
   "source": [
    "import random as rnd\n",
    "import numpy as np"
   ]
  },
  {
   "cell_type": "code",
   "execution_count": 9,
   "metadata": {
    "collapsed": true
   },
   "outputs": [],
   "source": [
    "class Passenger:\n",
    "    def __init__(self, pid):\n",
    "        self.id=pid\n",
    "        self.isWindower=str(self.id).endswith('w')\n",
    "        self.position=None\n",
    "        self.status=0 # 0:'QUEUED_TO_BOARD', 1:'NEXT_TO_BOARD', 2:'PLACED_IN_PLANE'"
   ]
  },
  {
   "cell_type": "code",
   "execution_count": 10,
   "metadata": {
    "collapsed": true
   },
   "outputs": [],
   "source": [
    "class PassengerList:\n",
    "    def __init__(self, groups):\n",
    "        self.groups=groups.copy()\n",
    "        self.index_group=0\n",
    "        self.index_passenger_ingroup=0\n",
    "        self.completed=False\n",
    "        self.groups[0][0].status=1\n",
    "    \n",
    "    def getTotalPassengerNumber(self):\n",
    "        n = 0\n",
    "        for g in self.groups:\n",
    "            for p in g:\n",
    "                n = n + 1\n",
    "        return n\n",
    "    \n",
    "    def getNextAndUpdate(self):\n",
    "        current_passenger = self.getNext()\n",
    "        if current_passenger is None:\n",
    "            return None\n",
    "        else:\n",
    "            self.index_passenger_ingroup = (self.index_passenger_ingroup + 1) % len(self.groups[self.index_group])\n",
    "            if (self.index_passenger_ingroup == 0):\n",
    "                self.index_group = (self.index_group + 1) % len(self.groups)\n",
    "                if (self.index_group == 0):\n",
    "                    self.completed = True\n",
    "            if (self.completed==False):\n",
    "                self.groups[self.index_group][self.index_passenger_ingroup].status=1\n",
    "            return current_passenger\n",
    "    \n",
    "    def getNext(self):\n",
    "        if (self.completed):\n",
    "            return None\n",
    "        else:\n",
    "            return self.groups[self.index_group][self.index_passenger_ingroup]\n",
    "\n",
    "    def canRotate(self):\n",
    "        g = self.groups[self.index_group]\n",
    "        if (g[self.index_passenger_ingroup].isWindower):\n",
    "            return False\n",
    "        else:\n",
    "            size = len(g)\n",
    "            for i in range(self.index_passenger_ingroup+1,size):\n",
    "                if (g[i].isWindower):\n",
    "                    return True\n",
    "        return False\n",
    "    \n",
    "    def rotate(self):\n",
    "        if (self.canRotate()):\n",
    "            g = self.groups[self.index_group]\n",
    "            size = len(g)\n",
    "            p = g[self.index_passenger_ingroup]\n",
    "            for i in range(self.index_passenger_ingroup+1,size):\n",
    "                g[i-1]=g[i]\n",
    "            g[size-1]=p\n",
    "            return True\n",
    "        else:\n",
    "            return False\n"
   ]
  },
  {
   "cell_type": "code",
   "execution_count": 11,
   "metadata": {
    "collapsed": true
   },
   "outputs": [],
   "source": [
    "class Plane:\n",
    "    def __init__(self, plane_dims):\n",
    "        self.plane_dims=plane_dims\n",
    "        self.plane=[]\n",
    "        for i in range(plane_dims[0]):\n",
    "            row = [None for j in range(plane_dims[1])]\n",
    "            self.plane.append(row)\n",
    "    \n",
    "    def roomInRow(self,row_num):\n",
    "        if (self.plane[row_num][-1]==None):\n",
    "            return True\n",
    "        else:\n",
    "            return False\n",
    "    \n",
    "    def setPassengerInRow(self, passenger, row_num):\n",
    "        for i in range(self.plane_dims[1]):\n",
    "            if (self.plane[row_num][i] is None):\n",
    "                self.plane[row_num][i] = passenger\n",
    "                passenger.position=(row_num,i)\n",
    "                passenger.status=2\n",
    "                return\n",
    "            \n",
    "    def getPosition(self, passenger):\n",
    "        for i in range(self.plane_dims[0]):\n",
    "            for j in range(self.plane_dims[1]):\n",
    "                if (self.plane[i][j] is not None):\n",
    "                    if (self.plane[i][j].id == passenger.id):\n",
    "                        return (i,j)\n",
    "        return (0, 0)\n",
    "    \n",
    "    def drawPlane(self):\n",
    "        for i in range(self.plane_dims[0]):\n",
    "            row=[(str(x.id) + \" \") for x in self.plane[i]]\n",
    "            print(row)"
   ]
  },
  {
   "cell_type": "code",
   "execution_count": 54,
   "metadata": {
    "collapsed": true
   },
   "outputs": [],
   "source": [
    "class PlaneEnv:\n",
    "    def __init__(self, file_name):\n",
    "        self.file_name=file_name\n",
    "        self.reset()\n",
    "\n",
    "    def reset(self):\n",
    "        file = open(self.file_name, 'r')\n",
    "        \n",
    "        # read plane dimensions\n",
    "        plane_dims=[int(x) for x in file.readline().replace('\\n','').split(' ')]\n",
    "        \n",
    "        # read Groups\n",
    "        self.Groups = []\n",
    "        more_groups = True\n",
    "        while more_groups:\n",
    "            line = file.readline()\n",
    "            if line is not '':\n",
    "                passengers = [Passenger(x) for x in line.replace('\\n','').split(' ')]\n",
    "                self.Groups.append(passengers)\n",
    "            else:\n",
    "                more_groups = False\n",
    "        self.passengerList = PassengerList(self.Groups)\n",
    "        \n",
    "        # End reading\n",
    "        file.close()\n",
    "\n",
    "        # Creating Empty Plane\n",
    "        self.plane = Plane(plane_dims)\n",
    "        \n",
    "        # set actions\n",
    "        self.actions=[]\n",
    "        for i in range(plane_dims[0]):\n",
    "            self.actions.append(i) # insert passanger at i row\n",
    "        self.actions.append(plane_dims[0]) # state for rotating passanger in group\n",
    "        \n",
    "        return np.zeros(11*self.passengerList.getTotalPassengerNumber())\n",
    "            \n",
    "    # retrieve number of actions\n",
    "    def action_space_n(self):\n",
    "        return len(self.actions)\n",
    "    \n",
    "    # retrieve a random action.\n",
    "    def action_space_sample(self):\n",
    "        valid_action = False\n",
    "        action = None\n",
    "        while valid_action==False:\n",
    "            action = self.actions[rnd.randint(0,self.action_space_n()-1)]\n",
    "            if (action < self.action_space_n()-1):\n",
    "                if (self.plane.roomInRow(action)):\n",
    "                    valid_action = True\n",
    "            elif (action == self.action_space_n()-1 & self.passengerList.canRotate() ):\n",
    "                valid_action = True\n",
    "        return action\n",
    "    \n",
    "    # Run a step. Return: observation (std normalized), reward, done\n",
    "    def step(self, action):\n",
    "        invalid_action_1=False\n",
    "        invalid_action_2=False\n",
    "        invalid_action_3=False\n",
    "        # Action execution\n",
    "        if (action == self.action_space_n()):\n",
    "            if (self.passengerList.canRotate()):\n",
    "                self.passengerList.rotate()\n",
    "            else:\n",
    "                #print(\"WARN: rotate group \" + self.index_group + \" is not possible!\")\n",
    "                invalid_action_1=True\n",
    "        else:\n",
    "            if ( self.plane.roomInRow(action) ):\n",
    "                passenger = self.passengerList.getNextAndUpdate()\n",
    "                if (passenger is not None):\n",
    "                    self.plane.setPassengerInRow(passenger, action)\n",
    "                else:\n",
    "                    #print(\"WARN: there is no more passenger for boarding\")\n",
    "                    invalid_action_2=True\n",
    "            else:\n",
    "                #print(\"WARN: there is not room in row \" + str(action))\n",
    "                invalid_action_3=True\n",
    "\n",
    "        # Check if episode is finished\n",
    "        done = self.passengerList.completed\n",
    "\n",
    "        # Reward evaluation. Only after the end\n",
    "        reward = 0\n",
    "        if (done):\n",
    "            for group in self.Groups:\n",
    "                reward = reward + self.__groupedLevel__(group)\n",
    "            reward = reward + self.__windowLevel__()\n",
    "        \n",
    "        info={'ia1':invalid_action_1,'ia2':invalid_action_2,'ia3':invalid_action_3}\n",
    "        return (self.__s2x__(), reward, done, info)\n",
    "    \n",
    "    # Transform state in gaussian normalized vector X\n",
    "    # each passanger in original order: p0 p1 S0 S1 S2 W G0 G1 G2 G3 .. Gn\n",
    "    def __s2x__(self):\n",
    "        p_x = []\n",
    "        nGroups = len(self.Groups)\n",
    "        g_index = 0\n",
    "        for group in self.Groups:\n",
    "            for p in group:\n",
    "                # Position\n",
    "                (posX, posY)=self.plane.getPosition(p)\n",
    "                p_x.append(posX)\n",
    "                p_x.append(posY)\n",
    "                \n",
    "                # state\n",
    "                stsoh = self.__one_hot__(p.status,3)\n",
    "                p_x = self.__append__(p_x, stsoh)\n",
    "                \n",
    "                # window\n",
    "                if (p.isWindower == True):\n",
    "                    p_x.append(1)\n",
    "                else:\n",
    "                    p_x.append(0)\n",
    "                \n",
    "                # group\n",
    "                goh = self.__one_hot__(g_index,nGroups)\n",
    "                p_x = self.__append__(p_x, goh)\n",
    "            g_index = g_index + 1\n",
    "        return np.array(p_x)\n",
    "    \n",
    "    def __one_hot__(self, value, labels):\n",
    "        targets = np.array([value])\n",
    "        ohm = np.zeros((targets.shape[0], labels))\n",
    "        #empty one-hot matrix\n",
    "        ohm[np.arange(targets.shape[0]), targets] = 1\n",
    "        return ohm[0].tolist()\n",
    "    \n",
    "    def __append__(self, init, add):\n",
    "        for c in add:\n",
    "            init.append(c)\n",
    "        return init\n",
    "\n",
    "    # Group Percentage of grouping\n",
    "    def __groupedLevel__(self, group):\n",
    "        id_group = [x.id for x in group]\n",
    "        #print('-> id_group: ' + str(id_group))\n",
    "        g_partial = []\n",
    "        g_total = len(id_group)\n",
    "        for i in range(self.plane.plane_dims[0]):\n",
    "            g_row = 0\n",
    "            for j in range(self.plane.plane_dims[1]):\n",
    "                if (self.plane.plane[i][j].isWindower is not None):\n",
    "                    if (self.plane.plane[i][j].id in id_group):\n",
    "                        #print('---> id: ' + str(i) + ', ' + str(self.plane.plane[i][j].id))\n",
    "                        g_row = g_row + 1\n",
    "            g_partial.append(g_row)\n",
    "        return float(max(g_partial)/g_total)*100\n",
    "    \n",
    "    # Percentage of passangers in window\n",
    "    def __windowLevel__(self):\n",
    "        w_ok = 0\n",
    "        w_total = 0\n",
    "        for i in range(self.plane.plane_dims[0]):\n",
    "            for j in range(self.plane.plane_dims[1]):\n",
    "                if (self.plane.plane[i][j].isWindower is not None):\n",
    "                    if (self.plane.plane[i][j].isWindower):\n",
    "                        w_total = w_total + 1\n",
    "                        if (j == 0):\n",
    "                            w_ok = w_ok + 1\n",
    "        return float(w_ok/w_total)*100"
   ]
  },
  {
   "cell_type": "markdown",
   "metadata": {},
   "source": [
    "## Testing functions"
   ]
  },
  {
   "cell_type": "code",
   "execution_count": 55,
   "metadata": {},
   "outputs": [],
   "source": [
    "env = PlaneEnv('plane1.txt')"
   ]
  },
  {
   "cell_type": "code",
   "execution_count": 56,
   "metadata": {},
   "outputs": [
    {
     "data": {
      "text/plain": [
       "2"
      ]
     },
     "execution_count": 56,
     "metadata": {},
     "output_type": "execute_result"
    }
   ],
   "source": [
    "env.action_space_sample()"
   ]
  },
  {
   "cell_type": "code",
   "execution_count": 57,
   "metadata": {},
   "outputs": [
    {
     "name": "stdout",
     "output_type": "stream",
     "text": [
      "1w - 1\n",
      "2 - 0\n",
      "3 - 0\n",
      "4 - 0\n",
      "5 - 0\n",
      "6 - 0\n",
      "7 - 0\n",
      "8 - 0\n",
      "9w - 0\n",
      "10 - 0\n",
      "11 - 0\n",
      "12 - 0\n",
      "13 - 0\n",
      "14 - 0\n",
      "15 - 0\n",
      "16 - 0\n"
     ]
    }
   ],
   "source": [
    "for g in env.Groups:\n",
    "    for p in g:\n",
    "        print(p.id + \" - \" + str(p.status))"
   ]
  },
  {
   "cell_type": "code",
   "execution_count": 58,
   "metadata": {},
   "outputs": [],
   "source": [
    "passengers = env.passengerList"
   ]
  },
  {
   "cell_type": "code",
   "execution_count": 59,
   "metadata": {},
   "outputs": [
    {
     "data": {
      "text/plain": [
       "'1w'"
      ]
     },
     "execution_count": 59,
     "metadata": {},
     "output_type": "execute_result"
    }
   ],
   "source": [
    "passengers.getNext().id"
   ]
  },
  {
   "cell_type": "code",
   "execution_count": 60,
   "metadata": {},
   "outputs": [
    {
     "data": {
      "text/plain": [
       "False"
      ]
     },
     "execution_count": 60,
     "metadata": {},
     "output_type": "execute_result"
    }
   ],
   "source": [
    "passengers.canRotate()"
   ]
  },
  {
   "cell_type": "code",
   "execution_count": 61,
   "metadata": {},
   "outputs": [
    {
     "data": {
      "text/plain": [
       "False"
      ]
     },
     "execution_count": 61,
     "metadata": {},
     "output_type": "execute_result"
    }
   ],
   "source": [
    "passengers.rotate()"
   ]
  },
  {
   "cell_type": "code",
   "execution_count": 62,
   "metadata": {
    "collapsed": true
   },
   "outputs": [],
   "source": [
    "#passengers.getNextAndUpdate().id"
   ]
  },
  {
   "cell_type": "code",
   "execution_count": 63,
   "metadata": {},
   "outputs": [
    {
     "name": "stdout",
     "output_type": "stream",
     "text": [
      "id: 1w\n",
      "id: 2\n",
      "id: 3\n",
      "id: 4\n",
      "id: 5\n",
      "id: 6\n",
      "id: 7\n",
      "id: 8\n",
      "id: 9w\n",
      "id: 10\n",
      "id: 11\n",
      "id: 12\n",
      "id: 13\n",
      "id: 14\n",
      "id: 15\n",
      "id: 16\n"
     ]
    }
   ],
   "source": [
    "while (passengers.completed==False):\n",
    "    id=passengers.getNextAndUpdate().id\n",
    "    print(\"id: \" + str(id))"
   ]
  },
  {
   "cell_type": "markdown",
   "metadata": {},
   "source": [
    "## Testing Environment "
   ]
  },
  {
   "cell_type": "code",
   "execution_count": 64,
   "metadata": {
    "collapsed": true
   },
   "outputs": [],
   "source": [
    "env = PlaneEnv('plane1.txt')"
   ]
  },
  {
   "cell_type": "code",
   "execution_count": 65,
   "metadata": {},
   "outputs": [],
   "source": [
    "iters = 200\n",
    "rewards = []\n",
    "for i in range(iters):\n",
    "    env.reset()\n",
    "    done = False\n",
    "    while (done == False):\n",
    "        action = env.action_space_sample()\n",
    "        (x, reward, done, info) = env.step(action)\n",
    "        #if (i%15):\n",
    "        #    print(x)\n",
    "        \n",
    "    #env.plane.drawPlane()\n",
    "    rewards.append(reward)\n",
    "    #print(\"iter: \" + str(i) + \", reward: \" + str(reward))\n",
    "    #print()\n"
   ]
  },
  {
   "cell_type": "code",
   "execution_count": 66,
   "metadata": {
    "collapsed": true
   },
   "outputs": [],
   "source": [
    "import matplotlib.pyplot as plt\n",
    "%matplotlib inline"
   ]
  },
  {
   "cell_type": "code",
   "execution_count": 67,
   "metadata": {},
   "outputs": [
    {
     "data": {
      "text/plain": [
       "[<matplotlib.lines.Line2D at 0x10eeb7d68>]"
      ]
     },
     "execution_count": 67,
     "metadata": {},
     "output_type": "execute_result"
    },
    {
     "data": {
      "image/png": "[encoded data removed]",
      "text/plain": [
       "<matplotlib.figure.Figure at 0x11365c908>"
      ]
     },
     "metadata": {},
     "output_type": "display_data"
    }
   ],
   "source": [
    "plt.plot(rewards)"
   ]
  },
  {
   "cell_type": "markdown",
   "metadata": {
    "collapsed": true
   },
   "source": [
    "# Q-Learning "
   ]
  },
  {
   "cell_type": "code",
   "execution_count": 68,
   "metadata": {
    "collapsed": true
   },
   "outputs": [],
   "source": [
    "import numpy as np\n",
    "import matplotlib\n",
    "import matplotlib.pyplot as plt\n",
    "from datetime import datetime\n",
    "from sklearn.pipeline import FeatureUnion\n",
    "from sklearn.preprocessing import StandardScaler\n",
    "from sklearn.kernel_approximation import RBFSampler\n",
    "from sklearn.linear_model import SGDRegressor"
   ]
  },
  {
   "cell_type": "code",
   "execution_count": 77,
   "metadata": {
    "collapsed": true
   },
   "outputs": [],
   "source": [
    "class FeatureTransformer:\n",
    "    def __init__(self, env, n_components=500):\n",
    "        observation_examples = self.__getObservations__(env, 1000)\n",
    "        scaler = StandardScaler()\n",
    "        scaler.fit(observation_examples)\n",
    "\n",
    "        # Used to converte a state to a featurizes represenation.\n",
    "        # We use RBF kernels with different variances to cover different parts of the space\n",
    "        featurizer = FeatureUnion([\n",
    "                (\"rbf1\", RBFSampler(gamma=5.0, n_components=n_components)),\n",
    "                (\"rbf2\", RBFSampler(gamma=2.0, n_components=n_components)),\n",
    "                (\"rbf3\", RBFSampler(gamma=1.0, n_components=n_components)),\n",
    "                (\"rbf4\", RBFSampler(gamma=0.5, n_components=n_components))\n",
    "                ])\n",
    "        example_features = featurizer.fit_transform(scaler.transform(observation_examples))\n",
    "\n",
    "        self.dimensions = example_features.shape[1]\n",
    "        self.scaler = scaler\n",
    "        self.featurizer = featurizer\n",
    "\n",
    "    def transform(self, observations):\n",
    "        # print \"observations:\", observations\n",
    "        scaled = self.scaler.transform(observations)\n",
    "        # assert(len(scaled.shape) == 2)\n",
    "        return self.featurizer.transform(scaled)\n",
    "    \n",
    "    def __getObservations__(self, env, iters):\n",
    "        data=[]\n",
    "        for i in range(iters):\n",
    "            env.reset()\n",
    "            done = False\n",
    "            while (done == False):\n",
    "                action = env.action_space_sample()\n",
    "                (x, reward, done, info) = env.step(action)\n",
    "                data.append(x)\n",
    "        return np.array(data)"
   ]
  },
  {
   "cell_type": "code",
   "execution_count": 108,
   "metadata": {
    "collapsed": true
   },
   "outputs": [],
   "source": [
    "# Holds one SGDRegressor for each action\n",
    "class Model:\n",
    "    def __init__(self, env, feature_transformer, learning_rate):\n",
    "        self.env = env\n",
    "        self.models = []\n",
    "        self.feature_transformer = feature_transformer\n",
    "        for i in range(env.action_space_n()):\n",
    "            model = SGDRegressor(learning_rate=learning_rate, max_iter=1000, tol=1e-3)\n",
    "            model.partial_fit(feature_transformer.transform( [env.reset()] ), [0])\n",
    "            self.models.append(model)\n",
    "\n",
    "    def predict(self, s):\n",
    "        X = self.feature_transformer.transform([s])\n",
    "        result = np.stack([m.predict(X) for m in self.models]).T\n",
    "        assert(len(result.shape) == 2)\n",
    "        return result\n",
    "\n",
    "    def update(self, s, a, G):\n",
    "        X = self.feature_transformer.transform([s])\n",
    "        assert(len(X.shape) == 2)\n",
    "        self.models[a].partial_fit(X, [G])\n",
    "\n",
    "    def sample_action(self, s, eps):\n",
    "        # eps = 0\n",
    "        # Technically, we don't need to do epsilon-greedy\n",
    "        # because SGDRegressor predicts 0 for all states\n",
    "        # until they are updated. This works as the\n",
    "        # \"Optimistic Initial Values\" method, since all\n",
    "        # the rewards for Mountain Car are -1.\n",
    "        if np.random.random() < eps:\n",
    "              return self.env.action_space_sample()\n",
    "        else:\n",
    "              return np.argmax(self.predict(s))"
   ]
  },
  {
   "cell_type": "code",
   "execution_count": 120,
   "metadata": {},
   "outputs": [],
   "source": [
    "class QLearning:\n",
    "    # returns a list of states_and_rewards, and the total reward\n",
    "    def __play_one__(self,model, env, eps, gamma):\n",
    "        observation = env.reset()\n",
    "        done = False\n",
    "        totalreward = 0\n",
    "        iters = 0\n",
    "        ia1=0\n",
    "        ia2=0\n",
    "        ia3=0\n",
    "        while not done and iters < 10000:\n",
    "            action = model.sample_action(observation, eps)\n",
    "            prev_observation = observation\n",
    "            (observation, reward, done, info) = env.step(action)\n",
    "            if ( (info['ia1']==True) | (info['ia2']==True) | (info['ia3']==True) ):\n",
    "                if (info['ia1']==True):\n",
    "                    ia1 += 1\n",
    "                if (info['ia2']==True):\n",
    "                    ia2 += 1\n",
    "                if (info['ia3']==True):\n",
    "                    ia3 += 1\n",
    "                iters += 1\n",
    "                continue\n",
    "\n",
    "            # update the model\n",
    "            next = model.predict(observation)\n",
    "            # assert(next.shape == (1, env.action_space.n))\n",
    "            G = reward + gamma*np.max(next[0])\n",
    "            model.update(prev_observation, action, G)\n",
    "\n",
    "            totalreward += reward\n",
    "            iters += 1\n",
    "\n",
    "        if (done == False):\n",
    "            print(\"WARN: More iterations required\")\n",
    "\n",
    "        return (totalreward, iters, ia1, ia2, ia3)\n",
    "\n",
    "    def __plot_running_avg__(self,totalrewards, slot=100):\n",
    "        N = len(totalrewards)\n",
    "        running_avg = np.empty(N)\n",
    "        for t in range(N):\n",
    "            running_avg[t] = totalrewards[max(0, t-slot):(t+1)].mean()\n",
    "        plt.subplot(121)\n",
    "        plt.plot(running_avg)\n",
    "        plt.title(\"Running Average\")\n",
    "        #plt.show()\n",
    "\n",
    "    def launch(self,show_plots=True, gamma=0.99, epsType='t2', slot=100, N=1000):\n",
    "        env = PlaneEnv('plane1.txt')\n",
    "        ft = FeatureTransformer(env)\n",
    "        model = Model(env, ft, \"constant\")\n",
    "\n",
    "        totalrewards = np.empty(N)\n",
    "        iterss = np.empty(N)\n",
    "        ia1s = np.empty(N)\n",
    "        ia2s = np.empty(N)\n",
    "        ia3s = np.empty(N)\n",
    "        for n in range(N):\n",
    "            if (epsType=='t1'):\n",
    "                eps = 1.0/(0.1*n+1)\n",
    "            if (epsType=='t2'):\n",
    "                eps = 0.1*(0.97**n)\n",
    "            if (epsType=='t3'):\n",
    "                eps = 1.0/np.sqrt(n+1)\n",
    "            if n == slot:\n",
    "                print(\"eps:\", eps)\n",
    "            (totalreward, iters, ia1, ia2, ia3) = self.__play_one__(model, env, eps, gamma)\n",
    "            totalrewards[n] = totalreward\n",
    "            iterss[n] = iters\n",
    "            ia1s[n] = ia1\n",
    "            ia2s[n] = ia2\n",
    "            ia3s[n] = ia3\n",
    "\n",
    "            if (n + 1) % slot == 0:\n",
    "                print(\"episode:\", n, \"total reward:\", totalreward, \",iters:\",iters, \",ia1:\",ia1, \"ia2:\", ia2, \",ia3:\", ia3)\n",
    "                env.plane.drawPlane()\n",
    "            print(\"avg reward for last \", slot, \" episodes:\", totalrewards[max(n-slot,0):n].mean())\n",
    "            #print(\"total steps:\", -totalrewards.sum())\n",
    "\n",
    "        if show_plots:\n",
    "            plt.subplots(figsize=(18,5))\n",
    "            plt.subplot(121)\n",
    "            plt.plot(totalrewards)\n",
    "            #plt.title(\"Rewards\")\n",
    "            #plt.show()\n",
    "            #plt.subplot(132)\n",
    "            #plt.plot(iterss)\n",
    "            #plt.title('iters')\n",
    "            #plt.subplot(513)\n",
    "            #plt.plot(ia1s)\n",
    "            #plt.subplot(514)\n",
    "            #plt.plot(ia2s)\n",
    "            plt.subplot(122)\n",
    "            plt.plot(ia3s)\n",
    "            plt.title('ia3')\n",
    "\n",
    "        env.plane.drawPlane()\n",
    "        self.__plot_running_avg__(totalrewards, slot)\n"
   ]
  },
  {
   "cell_type": "code",
   "execution_count": 121,
   "metadata": {
    "collapsed": true
   },
   "outputs": [],
   "source": [
    "ql = QLearning()"
   ]
  },
  {
   "cell_type": "code",
   "execution_count": 122,
   "metadata": {},
   "outputs": [
    {
     "name": "stderr",
     "output_type": "stream",
     "text": [
      "/anaconda3/lib/python3.6/site-packages/ipykernel_launcher.py:78: RuntimeWarning: Mean of empty slice.\n",
      "/anaconda3/lib/python3.6/site-packages/numpy/core/_methods.py:80: RuntimeWarning: invalid value encountered in double_scalars\n",
      "  ret = ret.dtype.type(ret / rcount)\n"
     ]
    },
    {
     "name": "stdout",
     "output_type": "stream",
     "text": [
      "avg reward for last  10  episodes: nan\n",
      "avg reward for last  10  episodes: 443.333333333\n",
      "avg reward for last  10  episodes: 433.333333333\n",
      "avg reward for last  10  episodes: 421.111111111\n",
      "avg reward for last  10  episodes: 409.166666667\n",
      "avg reward for last  10  episodes: 416.0\n",
      "avg reward for last  10  episodes: 423.333333333\n",
      "avg reward for last  10  episodes: 418.571428571\n",
      "avg reward for last  10  episodes: 413.333333333\n",
      "episode: 9 total reward: 460.0 ,iters: 145 ,ia1: 0 ia2: 0 ,ia3: 129\n",
      "['2 ', '6 ', '7 ', '8 ']\n",
      "['10 ', '12 ', '15 ', '16 ']\n",
      "['1w ', '3 ', '4 ', '5 ']\n",
      "['9w ', '11 ', '13 ', '14 ']\n",
      "avg reward for last  10  episodes: 407.407407407\n",
      "eps: 0.07374241268949282\n",
      "avg reward for last  10  episodes: 412.666666667\n",
      "avg reward for last  10  episodes: 411.0\n",
      "avg reward for last  10  episodes: 408.0\n",
      "avg reward for last  10  episodes: 409.333333333\n",
      "avg reward for last  10  episodes: 406.0\n",
      "avg reward for last  10  episodes: 401.0\n",
      "avg reward for last  10  episodes: 385.666666667\n",
      "avg reward for last  10  episodes: 384.333333333\n",
      "avg reward for last  10  episodes: 392.666666667\n",
      "episode: 19 total reward: 390.0 ,iters: 145 ,ia1: 0 ia2: 0 ,ia3: 129\n",
      "['5 ', '7 ', '8 ', '11 ']\n",
      "['12 ', '13 ', '15 ', '16 ']\n",
      "['1w ', '2 ', '3 ', '4 ']\n",
      "['6 ', '9w ', '10 ', '14 ']\n",
      "avg reward for last  10  episodes: 404.0\n",
      "avg reward for last  10  episodes: 397.0\n",
      "avg reward for last  10  episodes: 393.666666667\n",
      "avg reward for last  10  episodes: 397.0\n",
      "avg reward for last  10  episodes: 401.666666667\n",
      "avg reward for last  10  episodes: 410.0\n",
      "avg reward for last  10  episodes: 403.0\n",
      "avg reward for last  10  episodes: 410.0\n",
      "avg reward for last  10  episodes: 406.333333333\n",
      "avg reward for last  10  episodes: 398.0\n",
      "episode: 29 total reward: 376.66666666666663 ,iters: 282 ,ia1: 0 ia2: 0 ,ia3: 266\n",
      "['9w ', '10 ', '11 ', '15 ']\n",
      "['12 ', '13 ', '14 ', '16 ']\n",
      "['1w ', '2 ', '6 ', '8 ']\n",
      "['3 ', '4 ', '5 ', '7 ']\n",
      "avg reward for last  10  episodes: 381.333333333\n",
      "avg reward for last  10  episodes: 380.0\n",
      "avg reward for last  10  episodes: 379.666666667\n",
      "avg reward for last  10  episodes: 376.0\n",
      "avg reward for last  10  episodes: 369.333333333\n",
      "avg reward for last  10  episodes: 364.666666667\n",
      "avg reward for last  10  episodes: 374.666666667\n",
      "avg reward for last  10  episodes: 378.0\n",
      "avg reward for last  10  episodes: 378.0\n",
      "avg reward for last  10  episodes: 372.666666667\n",
      "episode: 39 total reward: 360.0 ,iters: 282 ,ia1: 0 ia2: 0 ,ia3: 266\n",
      "['1w ', '2 ', '3 ', '4 ']\n",
      "['6 ', '7 ', '8 ', '15 ']\n",
      "['5 ', '9w ', '12 ', '13 ']\n",
      "['10 ', '11 ', '14 ', '16 ']\n",
      "avg reward for last  10  episodes: 386.666666667\n",
      "avg reward for last  10  episodes: 385.0\n",
      "avg reward for last  10  episodes: 385.0\n",
      "avg reward for last  10  episodes: 393.333333333\n",
      "avg reward for last  10  episodes: 385.0\n",
      "avg reward for last  10  episodes: 393.333333333\n",
      "avg reward for last  10  episodes: 390.333333333\n",
      "avg reward for last  10  episodes: 388.333333333\n",
      "avg reward for last  10  episodes: 403.666666667\n",
      "avg reward for last  10  episodes: 404.0\n",
      "episode: 49 total reward: 443.3333333333333 ,iters: 394 ,ia1: 0 ia2: 0 ,ia3: 378\n",
      "['11 ', '14 ', '15 ', '16 ']\n",
      "['5 ', '6 ', '7 ', '9w ']\n",
      "['8 ', '10 ', '12 ', '13 ']\n",
      "['1w ', '2 ', '3 ', '4 ']\n",
      "avg reward for last  10  episodes: 393.333333333\n",
      "avg reward for last  10  episodes: 401.666666667\n",
      "avg reward for last  10  episodes: 402.333333333\n",
      "avg reward for last  10  episodes: 394.0\n",
      "avg reward for last  10  episodes: 405.666666667\n",
      "avg reward for last  10  episodes: 397.333333333\n",
      "avg reward for last  10  episodes: 390.666666667\n",
      "avg reward for last  10  episodes: 391.0\n",
      "avg reward for last  10  episodes: 382.333333333\n",
      "avg reward for last  10  episodes: 379.0\n",
      "episode: 59 total reward: 376.66666666666663 ,iters: 310 ,ia1: 0 ia2: 0 ,ia3: 294\n",
      "['10 ', '11 ', '14 ', '16 ']\n",
      "['2 ', '5 ', '6 ', '7 ']\n",
      "['1w ', '3 ', '4 ', '8 ']\n",
      "['9w ', '12 ', '13 ', '15 ']\n",
      "avg reward for last  10  episodes: 394.333333333\n",
      "avg reward for last  10  episodes: 387.666666667\n",
      "avg reward for last  10  episodes: 385.333333333\n",
      "avg reward for last  10  episodes: 372.333333333\n",
      "avg reward for last  10  episodes: 376.333333333\n",
      "avg reward for last  10  episodes: 385.0\n",
      "avg reward for last  10  episodes: 390.0\n",
      "avg reward for last  10  episodes: 388.333333333\n",
      "avg reward for last  10  episodes: 392.0\n",
      "avg reward for last  10  episodes: 401.666666667\n",
      "episode: 69 total reward: 443.3333333333333 ,iters: 650 ,ia1: 0 ia2: 0 ,ia3: 634\n",
      "['7 ', '12 ', '13 ', '14 ']\n",
      "['5 ', '6 ', '10 ', '11 ']\n",
      "['8 ', '9w ', '15 ', '16 ']\n",
      "['1w ', '2 ', '3 ', '4 ']\n",
      "avg reward for last  10  episodes: 391.333333333\n",
      "avg reward for last  10  episodes: 398.0\n",
      "avg reward for last  10  episodes: 407.0\n",
      "avg reward for last  10  episodes: 415.0\n",
      "avg reward for last  10  episodes: 402.666666667\n",
      "avg reward for last  10  episodes: 400.666666667\n",
      "avg reward for last  10  episodes: 399.0\n",
      "avg reward for last  10  episodes: 400.333333333\n",
      "avg reward for last  10  episodes: 395.0\n",
      "avg reward for last  10  episodes: 405.333333333\n",
      "episode: 79 total reward: 390.0 ,iters: 845 ,ia1: 0 ia2: 0 ,ia3: 829\n",
      "['1w ', '7 ', '8 ', '12 ']\n",
      "['2 ', '4 ', '5 ', '6 ']\n",
      "['10 ', '11 ', '15 ', '16 ']\n",
      "['3 ', '9w ', '13 ', '14 ']\n",
      "avg reward for last  10  episodes: 410.666666667\n",
      "avg reward for last  10  episodes: 405.333333333\n",
      "avg reward for last  10  episodes: 386.333333333\n",
      "avg reward for last  10  episodes: 391.333333333\n",
      "avg reward for last  10  episodes: 388.0\n",
      "avg reward for last  10  episodes: 390.0\n",
      "avg reward for last  10  episodes: 396.666666667\n",
      "avg reward for last  10  episodes: 404.0\n",
      "avg reward for last  10  episodes: 395.666666667\n",
      "avg reward for last  10  episodes: 385.333333333\n",
      "episode: 89 total reward: 343.3333333333333 ,iters: 730 ,ia1: 0 ia2: 0 ,ia3: 714\n",
      "['1w ', '5 ', '6 ', '10 ']\n",
      "['2 ', '4 ', '8 ', '11 ']\n",
      "['7 ', '12 ', '13 ', '14 ']\n",
      "['3 ', '9w ', '15 ', '16 ']\n",
      "avg reward for last  10  episodes: 382.0\n",
      "avg reward for last  10  episodes: 377.333333333\n",
      "avg reward for last  10  episodes: 394.333333333\n",
      "avg reward for last  10  episodes: 382.666666667\n",
      "avg reward for last  10  episodes: 386.0\n",
      "avg reward for last  10  episodes: 367.0\n",
      "avg reward for last  10  episodes: 366.666666667\n",
      "avg reward for last  10  episodes: 356.0\n",
      "avg reward for last  10  episodes: 369.666666667\n",
      "avg reward for last  10  episodes: 371.666666667\n",
      "episode: 99 total reward: 390.0 ,iters: 3235 ,ia1: 0 ia2: 0 ,ia3: 3219\n",
      "['2 ', '3 ', '4 ', '6 ']\n",
      "['9w ', '12 ', '13 ', '15 ']\n",
      "['1w ', '11 ', '14 ', '16 ']\n",
      "['5 ', '7 ', '8 ', '10 ']\n",
      "avg reward for last  10  episodes: 375.0\n",
      "['2 ', '3 ', '4 ', '6 ']\n",
      "['9w ', '12 ', '13 ', '15 ']\n",
      "['1w ', '11 ', '14 ', '16 ']\n",
      "['5 ', '7 ', '8 ', '10 ']\n"
     ]
    },
    {
     "name": "stderr",
     "output_type": "stream",
     "text": [
      "/anaconda3/lib/python3.6/site-packages/matplotlib/cbook/deprecation.py:106: MatplotlibDeprecationWarning: Adding an axes using the same arguments as a previous axes currently reuses the earlier instance.  In a future version, a new instance will always be created and returned.  Meanwhile, this warning can be suppressed, and the future behavior ensured, by passing a unique label to each axes instance.\n",
      "  warnings.warn(message, mplDeprecation, stacklevel=1)\n"
     ]
    },
    {
     "data": {
      "image/png": "[encoded data removed]",
      "text/plain": [
       "<matplotlib.figure.Figure at 0x1a183b5780>"
      ]
     },
     "metadata": {},
     "output_type": "display_data"
    }
   ],
   "source": [
    "ql.launch(slot=10, N=100)"
   ]
  },
  {
   "cell_type": "code",
   "execution_count": null,
   "metadata": {
    "collapsed": true
   },
   "outputs": [],
   "source": []
  }
 ],
 "metadata": {
  "kernelspec": {
   "display_name": "Python 3",
   "language": "python",
   "name": "python3"
  },
  "language_info": {
   "codemirror_mode": {
    "name": "ipython",
    "version": 3
   },
   "file_extension": ".py",
   "mimetype": "text/x-python",
   "name": "python",
   "nbconvert_exporter": "python",
   "pygments_lexer": "ipython3",
   "version": "3.6.3"
  }
 },
 "nbformat": 4,
 "nbformat_minor": 2
}
