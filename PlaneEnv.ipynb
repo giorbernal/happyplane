{
 "cells": [
  {
   "cell_type": "code",
   "execution_count": 9,
   "metadata": {
    "collapsed": true
   },
   "outputs": [],
   "source": [
    "# Define an environment at OpenAI style"
   ]
  },
  {
   "cell_type": "code",
   "execution_count": 10,
   "metadata": {
    "collapsed": true
   },
   "outputs": [],
   "source": [
    "import random as rnd\n",
    "import numpy as np"
   ]
  },
  {
   "cell_type": "code",
   "execution_count": 11,
   "metadata": {
    "collapsed": true
   },
   "outputs": [],
   "source": [
    "class Passenger:\n",
    "    def __init__(self, pid):\n",
    "        self.id=pid\n",
    "        self.isWindower=str(self.id).endswith('w')\n",
    "        self.position=None\n",
    "        self.status=0 # 0:'QUEUED_TO_BOARD', 1:'NEXT_TO_BOARD', 2:'PLACED_IN_PLANE'"
   ]
  },
  {
   "cell_type": "code",
   "execution_count": 12,
   "metadata": {
    "collapsed": true
   },
   "outputs": [],
   "source": [
    "class PassengerList:\n",
    "    def __init__(self, groups):\n",
    "        self.groups=groups.copy()\n",
    "        self.index_group=0\n",
    "        self.index_passenger_ingroup=0\n",
    "        self.completed=False\n",
    "        self.groups[0][0].status=1\n",
    "    \n",
    "    def getTotalPassengerNumber(self):\n",
    "        n = 0\n",
    "        for g in self.groups:\n",
    "            for p in g:\n",
    "                n = n + 1\n",
    "        return n\n",
    "    \n",
    "    def getNextAndUpdate(self):\n",
    "        current_passenger = self.getNext()\n",
    "        if current_passenger is None:\n",
    "            return None\n",
    "        else:\n",
    "            self.index_passenger_ingroup = (self.index_passenger_ingroup + 1) % len(self.groups[self.index_group])\n",
    "            if (self.index_passenger_ingroup == 0):\n",
    "                self.index_group = (self.index_group + 1) % len(self.groups)\n",
    "                if (self.index_group == 0):\n",
    "                    self.completed = True\n",
    "            if (self.completed==False):\n",
    "                self.groups[self.index_group][self.index_passenger_ingroup].status=1\n",
    "            return current_passenger\n",
    "    \n",
    "    def getNext(self):\n",
    "        if (self.completed):\n",
    "            return None\n",
    "        else:\n",
    "            return self.groups[self.index_group][self.index_passenger_ingroup]\n",
    "\n",
    "    def canRotate(self):\n",
    "        g = self.groups[self.index_group]\n",
    "        if (g[self.index_passenger_ingroup].isWindower):\n",
    "            return False\n",
    "        else:\n",
    "            size = len(g)\n",
    "            for i in range(self.index_passenger_ingroup+1,size):\n",
    "                if (g[i].isWindower):\n",
    "                    return True\n",
    "        return False\n",
    "    \n",
    "    def rotate(self):\n",
    "        if (self.canRotate()):\n",
    "            g = self.groups[self.index_group]\n",
    "            size = len(g)\n",
    "            p = g[self.index_passenger_ingroup]\n",
    "            for i in range(self.index_passenger_ingroup+1,size):\n",
    "                g[i-1]=g[i]\n",
    "            g[size-1]=p\n",
    "            return True\n",
    "        else:\n",
    "            return False\n"
   ]
  },
  {
   "cell_type": "code",
   "execution_count": 13,
   "metadata": {
    "collapsed": true
   },
   "outputs": [],
   "source": [
    "class Plane:\n",
    "    def __init__(self, plane_dims):\n",
    "        self.plane_dims=plane_dims\n",
    "        self.plane=[]\n",
    "        for i in range(plane_dims[0]):\n",
    "            row = [None for j in range(plane_dims[1])]\n",
    "            self.plane.append(row)\n",
    "    \n",
    "    def roomInRow(self,row_num):\n",
    "        if (self.plane[row_num][-1]==None):\n",
    "            return True\n",
    "        else:\n",
    "            return False\n",
    "    \n",
    "    def setPassengerInRow(self, passenger, row_num):\n",
    "        for i in range(self.plane_dims[1]):\n",
    "            if (self.plane[row_num][i] is None):\n",
    "                self.plane[row_num][i] = passenger\n",
    "                passenger.position=(row_num,i)\n",
    "                passenger.status=2\n",
    "                return\n",
    "            \n",
    "    def getPosition(self, passenger):\n",
    "        for i in range(self.plane_dims[0]):\n",
    "            for j in range(self.plane_dims[1]):\n",
    "                if (self.plane[i][j] is not None):\n",
    "                    if (self.plane[i][j].id == passenger.id):\n",
    "                        return (i,j)\n",
    "        return (0, 0)\n",
    "    \n",
    "    def drawPlane(self):\n",
    "        for i in range(self.plane_dims[0]):\n",
    "            row=[(str(x.id) + \" \") for x in self.plane[i]]\n",
    "            print(row)"
   ]
  },
  {
   "cell_type": "code",
   "execution_count": 14,
   "metadata": {
    "collapsed": true
   },
   "outputs": [],
   "source": [
    "class PlaneEnv:\n",
    "    def __init__(self, file_name):\n",
    "        self.file_name=file_name\n",
    "        self.reset()\n",
    "\n",
    "    def reset(self):\n",
    "        file = open(self.file_name, 'r')\n",
    "        \n",
    "        # read plane dimensions\n",
    "        plane_dims=[int(x) for x in file.readline().replace('\\n','').split(' ')]\n",
    "        \n",
    "        # read Groups\n",
    "        self.Groups = []\n",
    "        more_groups = True\n",
    "        while more_groups:\n",
    "            line = file.readline()\n",
    "            if line is not '':\n",
    "                passengers = [Passenger(x) for x in line.replace('\\n','').split(' ')]\n",
    "                self.Groups.append(passengers)\n",
    "            else:\n",
    "                more_groups = False\n",
    "        self.passengerList = PassengerList(self.Groups)\n",
    "        \n",
    "        # End reading\n",
    "        file.close()\n",
    "\n",
    "        # Creating Empty Plane\n",
    "        self.plane = Plane(plane_dims)\n",
    "        \n",
    "        # set actions\n",
    "        self.actions=[]\n",
    "        for i in range(plane_dims[0]):\n",
    "            self.actions.append(i) # insert passanger at i row\n",
    "        self.actions.append(plane_dims[0]) # state for rotating passanger in group\n",
    "        \n",
    "        return np.zeros(11*self.passengerList.getTotalPassengerNumber())\n",
    "            \n",
    "    # retrieve number of actions\n",
    "    def action_space_n(self):\n",
    "        return len(self.actions)\n",
    "    \n",
    "    # retrieve a random action.\n",
    "    def action_space_sample(self):\n",
    "        valid_action = False\n",
    "        action = None\n",
    "        while valid_action==False:\n",
    "            action = self.actions[rnd.randint(0,self.action_space_n()-1)]\n",
    "            if (action < self.action_space_n()-1):\n",
    "                if (self.plane.roomInRow(action)):\n",
    "                    valid_action = True\n",
    "            elif (action == self.action_space_n()-1 & self.passengerList.canRotate() ):\n",
    "                valid_action = True\n",
    "        return action\n",
    "    \n",
    "    # Run a step. Return: observation (std normalized), reward, done\n",
    "    def step(self, action):\n",
    "        # Action execution\n",
    "        if (action == self.action_space_n()):\n",
    "            if (self.passengerList.canRotate()):\n",
    "                self.passengerList.rotate()\n",
    "            else:\n",
    "                print(\"WARN: rotate group \" + self.index_group + \" is not possible!\")\n",
    "        else:\n",
    "            if ( self.plane.roomInRow(action) ):\n",
    "                passenger = self.passengerList.getNextAndUpdate()\n",
    "                if (passenger is not None):\n",
    "                    self.plane.setPassengerInRow(passenger, action)\n",
    "                else:\n",
    "                    print(\"WARN: there is no more passenger for boarding\")\n",
    "            #else:\n",
    "            #    print(\"WARN: there is not room in row \" + str(action))\n",
    "\n",
    "        # Check if episode is finished\n",
    "        done = self.passengerList.completed\n",
    "\n",
    "        # Reward evaluation. Only after the end\n",
    "        reward = 0\n",
    "        if (done):\n",
    "            for group in self.Groups:\n",
    "                reward = reward + self.__groupedLevel__(group)\n",
    "            reward = reward + self.__windowLevel__()\n",
    "        \n",
    "        return (self.__s2x__(), reward, done)\n",
    "    \n",
    "    # Transform state in gaussian normalized vector X\n",
    "    # each passanger in original order: p0 p1 S0 S1 S2 W G0 G1 G2 G3 .. Gn\n",
    "    def __s2x__(self):\n",
    "        p_x = []\n",
    "        nGroups = len(self.Groups)\n",
    "        g_index = 0\n",
    "        for group in self.Groups:\n",
    "            for p in group:\n",
    "                # Position\n",
    "                (posX, posY)=self.plane.getPosition(p)\n",
    "                p_x.append(posX)\n",
    "                p_x.append(posY)\n",
    "                \n",
    "                # state\n",
    "                stsoh = self.__one_hot__(p.status,3)\n",
    "                p_x = self.__append__(p_x, stsoh)\n",
    "                \n",
    "                # window\n",
    "                if (p.isWindower == True):\n",
    "                    p_x.append(1)\n",
    "                else:\n",
    "                    p_x.append(0)\n",
    "                \n",
    "                # group\n",
    "                goh = self.__one_hot__(g_index,nGroups)\n",
    "                p_x = self.__append__(p_x, goh)\n",
    "            g_index = g_index + 1\n",
    "        return np.array(p_x)\n",
    "    \n",
    "    def __one_hot__(self, value, labels):\n",
    "        targets = np.array([value])\n",
    "        ohm = np.zeros((targets.shape[0], labels))\n",
    "        #empty one-hot matrix\n",
    "        ohm[np.arange(targets.shape[0]), targets] = 1\n",
    "        return ohm[0].tolist()\n",
    "    \n",
    "    def __append__(self, init, add):\n",
    "        for c in add:\n",
    "            init.append(c)\n",
    "        return init\n",
    "\n",
    "    # Group Percentage of grouping\n",
    "    def __groupedLevel__(self, group):\n",
    "        id_group = [x.id for x in group]\n",
    "        #print('-> id_group: ' + str(id_group))\n",
    "        g_partial = []\n",
    "        g_total = len(id_group)\n",
    "        for i in range(self.plane.plane_dims[0]):\n",
    "            g_row = 0\n",
    "            for j in range(self.plane.plane_dims[1]):\n",
    "                if (self.plane.plane[i][j].isWindower is not None):\n",
    "                    if (self.plane.plane[i][j].id in id_group):\n",
    "                        #print('---> id: ' + str(i) + ', ' + str(self.plane.plane[i][j].id))\n",
    "                        g_row = g_row + 1\n",
    "            g_partial.append(g_row)\n",
    "        return float(max(g_partial)/g_total)*100\n",
    "    \n",
    "    # Percentage of passangers in window\n",
    "    def __windowLevel__(self):\n",
    "        w_ok = 0\n",
    "        w_total = 0\n",
    "        for i in range(self.plane.plane_dims[0]):\n",
    "            for j in range(self.plane.plane_dims[1]):\n",
    "                if (self.plane.plane[i][j].isWindower is not None):\n",
    "                    if (self.plane.plane[i][j].isWindower):\n",
    "                        w_total = w_total + 1\n",
    "                        if (j == 0):\n",
    "                            w_ok = w_ok + 1\n",
    "        return float(w_ok/w_total)*100"
   ]
  },
  {
   "cell_type": "markdown",
   "metadata": {},
   "source": [
    "## Testing functions"
   ]
  },
  {
   "cell_type": "code",
   "execution_count": 15,
   "metadata": {
    "collapsed": true
   },
   "outputs": [],
   "source": [
    "env = PlaneEnv('plane1.txt')"
   ]
  },
  {
   "cell_type": "code",
   "execution_count": 16,
   "metadata": {},
   "outputs": [
    {
     "data": {
      "text/plain": [
       "2"
      ]
     },
     "execution_count": 16,
     "metadata": {},
     "output_type": "execute_result"
    }
   ],
   "source": [
    "env.action_space_sample()"
   ]
  },
  {
   "cell_type": "code",
   "execution_count": 17,
   "metadata": {},
   "outputs": [
    {
     "name": "stdout",
     "output_type": "stream",
     "text": [
      "1w - 1\n",
      "2 - 0\n",
      "3 - 0\n",
      "4 - 0\n",
      "5 - 0\n",
      "6 - 0\n",
      "7 - 0\n",
      "8 - 0\n",
      "9w - 0\n",
      "10 - 0\n",
      "11 - 0\n",
      "12 - 0\n",
      "13 - 0\n",
      "14 - 0\n",
      "15 - 0\n",
      "16 - 0\n"
     ]
    }
   ],
   "source": [
    "for g in env.Groups:\n",
    "    for p in g:\n",
    "        print(p.id + \" - \" + str(p.status))"
   ]
  },
  {
   "cell_type": "code",
   "execution_count": 18,
   "metadata": {
    "collapsed": true
   },
   "outputs": [],
   "source": [
    "passengers = env.passengerList"
   ]
  },
  {
   "cell_type": "code",
   "execution_count": 19,
   "metadata": {},
   "outputs": [
    {
     "data": {
      "text/plain": [
       "'1w'"
      ]
     },
     "execution_count": 19,
     "metadata": {},
     "output_type": "execute_result"
    }
   ],
   "source": [
    "passengers.getNext().id"
   ]
  },
  {
   "cell_type": "code",
   "execution_count": 20,
   "metadata": {},
   "outputs": [
    {
     "data": {
      "text/plain": [
       "False"
      ]
     },
     "execution_count": 20,
     "metadata": {},
     "output_type": "execute_result"
    }
   ],
   "source": [
    "passengers.canRotate()"
   ]
  },
  {
   "cell_type": "code",
   "execution_count": 21,
   "metadata": {},
   "outputs": [
    {
     "data": {
      "text/plain": [
       "False"
      ]
     },
     "execution_count": 21,
     "metadata": {},
     "output_type": "execute_result"
    }
   ],
   "source": [
    "passengers.rotate()"
   ]
  },
  {
   "cell_type": "code",
   "execution_count": 22,
   "metadata": {
    "collapsed": true
   },
   "outputs": [],
   "source": [
    "#passengers.getNextAndUpdate().id"
   ]
  },
  {
   "cell_type": "code",
   "execution_count": 23,
   "metadata": {},
   "outputs": [
    {
     "name": "stdout",
     "output_type": "stream",
     "text": [
      "id: 1w\n",
      "id: 2\n",
      "id: 3\n",
      "id: 4\n",
      "id: 5\n",
      "id: 6\n",
      "id: 7\n",
      "id: 8\n",
      "id: 9w\n",
      "id: 10\n",
      "id: 11\n",
      "id: 12\n",
      "id: 13\n",
      "id: 14\n",
      "id: 15\n",
      "id: 16\n"
     ]
    }
   ],
   "source": [
    "while (passengers.completed==False):\n",
    "    id=passengers.getNextAndUpdate().id\n",
    "    print(\"id: \" + str(id))"
   ]
  },
  {
   "cell_type": "markdown",
   "metadata": {},
   "source": [
    "## Testing Environment "
   ]
  },
  {
   "cell_type": "code",
   "execution_count": 24,
   "metadata": {
    "collapsed": true
   },
   "outputs": [],
   "source": [
    "env = PlaneEnv('plane1.txt')"
   ]
  },
  {
   "cell_type": "code",
   "execution_count": 25,
   "metadata": {
    "collapsed": true
   },
   "outputs": [],
   "source": [
    "iters = 200\n",
    "rewards = []\n",
    "for i in range(iters):\n",
    "    env.reset()\n",
    "    done = False\n",
    "    while (done == False):\n",
    "        action = env.action_space_sample()\n",
    "        (x, reward, done) = env.step(action)\n",
    "        #if (i%15):\n",
    "        #    print(x)\n",
    "        \n",
    "    #env.plane.drawPlane()\n",
    "    rewards.append(reward)\n",
    "    #print(\"iter: \" + str(i) + \", reward: \" + str(reward))\n",
    "    #print()\n"
   ]
  },
  {
   "cell_type": "code",
   "execution_count": 26,
   "metadata": {
    "collapsed": true
   },
   "outputs": [],
   "source": [
    "import matplotlib.pyplot as plt\n",
    "%matplotlib inline"
   ]
  },
  {
   "cell_type": "code",
   "execution_count": 27,
   "metadata": {},
   "outputs": [
    {
     "data": {
      "text/plain": [
       "[<matplotlib.lines.Line2D at 0x1105e8fd0>]"
      ]
     },
     "execution_count": 27,
     "metadata": {},
     "output_type": "execute_result"
    },
    {
     "data": {
      "image/png": "[encoded data removed]",
      "text/plain": [
       "<matplotlib.figure.Figure at 0x11045ca58>"
      ]
     },
     "metadata": {},
     "output_type": "display_data"
    }
   ],
   "source": [
    "plt.plot(rewards)"
   ]
  },
  {
   "cell_type": "markdown",
   "metadata": {
    "collapsed": true
   },
   "source": [
    "# Q-Learning "
   ]
  },
  {
   "cell_type": "code",
   "execution_count": 28,
   "metadata": {
    "collapsed": true
   },
   "outputs": [],
   "source": [
    "import numpy as np\n",
    "import matplotlib\n",
    "import matplotlib.pyplot as plt\n",
    "from datetime import datetime\n",
    "from sklearn.pipeline import FeatureUnion\n",
    "from sklearn.preprocessing import StandardScaler\n",
    "from sklearn.kernel_approximation import RBFSampler\n",
    "from sklearn.linear_model import SGDRegressor"
   ]
  },
  {
   "cell_type": "code",
   "execution_count": 29,
   "metadata": {
    "collapsed": true
   },
   "outputs": [],
   "source": [
    "class FeatureTransformer:\n",
    "    def __init__(self, env, n_components=500):\n",
    "        observation_examples = self.__getObservations__(env, 1000)\n",
    "        scaler = StandardScaler()\n",
    "        scaler.fit(observation_examples)\n",
    "\n",
    "        # Used to converte a state to a featurizes represenation.\n",
    "        # We use RBF kernels with different variances to cover different parts of the space\n",
    "        featurizer = FeatureUnion([\n",
    "                (\"rbf1\", RBFSampler(gamma=5.0, n_components=n_components)),\n",
    "                (\"rbf2\", RBFSampler(gamma=2.0, n_components=n_components)),\n",
    "                (\"rbf3\", RBFSampler(gamma=1.0, n_components=n_components)),\n",
    "                (\"rbf4\", RBFSampler(gamma=0.5, n_components=n_components))\n",
    "                ])\n",
    "        example_features = featurizer.fit_transform(scaler.transform(observation_examples))\n",
    "\n",
    "        self.dimensions = example_features.shape[1]\n",
    "        self.scaler = scaler\n",
    "        self.featurizer = featurizer\n",
    "\n",
    "    def transform(self, observations):\n",
    "        # print \"observations:\", observations\n",
    "        scaled = self.scaler.transform(observations)\n",
    "        # assert(len(scaled.shape) == 2)\n",
    "        return self.featurizer.transform(scaled)\n",
    "    \n",
    "    def __getObservations__(self, env, iters):\n",
    "        data=[]\n",
    "        for i in range(iters):\n",
    "            env.reset()\n",
    "            done = False\n",
    "            while (done == False):\n",
    "                action = env.action_space_sample()\n",
    "                (x, reward, done) = env.step(action)\n",
    "                data.append(x)\n",
    "        return np.array(data)"
   ]
  },
  {
   "cell_type": "code",
   "execution_count": 30,
   "metadata": {
    "collapsed": true
   },
   "outputs": [],
   "source": [
    "# Holds one SGDRegressor for each action\n",
    "class Model:\n",
    "    def __init__(self, env, feature_transformer, learning_rate):\n",
    "        self.env = env\n",
    "        self.models = []\n",
    "        self.feature_transformer = feature_transformer\n",
    "        for i in range(env.action_space_n()):\n",
    "            model = SGDRegressor(learning_rate=learning_rate, max_iter=1000, tol=1e-3)\n",
    "            model.partial_fit(feature_transformer.transform( [env.reset()] ), [0])\n",
    "            self.models.append(model)\n",
    "\n",
    "    def predict(self, s):\n",
    "        X = self.feature_transformer.transform([s])\n",
    "        result = np.stack([m.predict(X) for m in self.models]).T\n",
    "        assert(len(result.shape) == 2)\n",
    "        return result\n",
    "\n",
    "    def update(self, s, a, G):\n",
    "        X = self.feature_transformer.transform([s])\n",
    "        assert(len(X.shape) == 2)\n",
    "        self.models[a].partial_fit(X, [G])\n",
    "\n",
    "    def sample_action(self, s, eps):\n",
    "        # eps = 0\n",
    "        # Technically, we don't need to do epsilon-greedy\n",
    "        # because SGDRegressor predicts 0 for all states\n",
    "        # until they are updated. This works as the\n",
    "        # \"Optimistic Initial Values\" method, since all\n",
    "        # the rewards for Mountain Car are -1.\n",
    "        if np.random.random() < eps:\n",
    "              return self.env.action_space_sample()\n",
    "        else:\n",
    "              return np.argmax(self.predict(s))"
   ]
  },
  {
   "cell_type": "code",
   "execution_count": 31,
   "metadata": {
    "collapsed": true
   },
   "outputs": [],
   "source": [
    "# returns a list of states_and_rewards, and the total reward\n",
    "def play_one(model, env, eps, gamma):\n",
    "    observation = env.reset()\n",
    "    done = False\n",
    "    totalreward = 0\n",
    "    iters = 0\n",
    "    while not done and iters < 10000:\n",
    "        action = model.sample_action(observation, eps)\n",
    "        prev_observation = observation\n",
    "        (observation, reward, done) = env.step(action)\n",
    "\n",
    "        # update the model\n",
    "        next = model.predict(observation)\n",
    "        # assert(next.shape == (1, env.action_space.n))\n",
    "        G = reward + gamma*np.max(next[0])\n",
    "        model.update(prev_observation, action, G)\n",
    "\n",
    "        totalreward += reward\n",
    "        iters += 1\n",
    "\n",
    "    if (done == False):\n",
    "        print(\"WARN: More iterations required\")\n",
    "        \n",
    "    return totalreward"
   ]
  },
  {
   "cell_type": "code",
   "execution_count": 32,
   "metadata": {
    "collapsed": true
   },
   "outputs": [],
   "source": [
    "def plot_running_avg(totalrewards):\n",
    "    N = len(totalrewards)\n",
    "    running_avg = np.empty(N)\n",
    "    for t in range(N):\n",
    "        running_avg[t] = totalrewards[max(0, t-100):(t+1)].mean()\n",
    "    plt.plot(running_avg)\n",
    "    plt.title(\"Running Average\")\n",
    "    #plt.show()"
   ]
  },
  {
   "cell_type": "code",
   "execution_count": 33,
   "metadata": {
    "collapsed": true
   },
   "outputs": [],
   "source": [
    "def main(show_plots=True):\n",
    "    env = PlaneEnv('plane1.txt')\n",
    "    ft = FeatureTransformer(env)\n",
    "    model = Model(env, ft, \"constant\")\n",
    "    gamma = 0.99\n",
    "\n",
    "    N = 100\n",
    "    totalrewards = np.empty(N)\n",
    "    for n in range(N):\n",
    "        # eps = 1.0/(0.1*n+1)\n",
    "        eps = 0.1*(0.97**n)\n",
    "        if n == 199:\n",
    "            print(\"eps:\", eps)\n",
    "        # eps = 1.0/np.sqrt(n+1)\n",
    "        totalreward = play_one(model, env, eps, gamma)\n",
    "        totalrewards[n] = totalreward\n",
    "        if (n + 1) % 100 == 0:\n",
    "            print(\"episode:\", n, \"total reward:\", totalreward)\n",
    "        print(\"avg reward for last 100 episodes:\", totalrewards[-100:].mean())\n",
    "        print(\"total steps:\", -totalrewards.sum())\n",
    "\n",
    "    if show_plots:\n",
    "        plt.plot(totalrewards)\n",
    "        plt.title(\"Rewards\")\n",
    "        #plt.show()\n",
    "\n",
    "    env.plane.drawPlane()\n",
    "    plot_running_avg(totalrewards)"
   ]
  },
  {
   "cell_type": "code",
   "execution_count": 34,
   "metadata": {},
   "outputs": [
    {
     "name": "stdout",
     "output_type": "stream",
     "text": [
      "avg reward for last 100 episodes: 4.6\n",
      "total steps: -460.0\n",
      "avg reward for last 100 episodes: 8.36666666667\n",
      "total steps: -836.666666667\n",
      "avg reward for last 100 episodes: 11.4333333333\n",
      "total steps: -1143.33333333\n",
      "avg reward for last 100 episodes: 16.0333333333\n",
      "total steps: -1603.33333333\n",
      "avg reward for last 100 episodes: 20.1333333333\n",
      "total steps: -2013.33333333\n",
      "avg reward for last 100 episodes: 24.2333333333\n",
      "total steps: -2423.33333333\n",
      "avg reward for last 100 episodes: 29.0333333333\n",
      "total steps: -2903.33333333\n",
      "avg reward for last 100 episodes: 32.1\n",
      "total steps: -3210.0\n",
      "avg reward for last 100 episodes: 35.8333333333\n",
      "total steps: -3583.33333333\n",
      "avg reward for last 100 episodes: 39.7333333333\n",
      "total steps: -3973.33333333\n",
      "avg reward for last 100 episodes: 42.4666666667\n",
      "total steps: -4246.66666667\n",
      "avg reward for last 100 episodes: 47.0666666667\n",
      "total steps: -4706.66666667\n",
      "avg reward for last 100 episodes: 50.9666666667\n",
      "total steps: -5096.66666667\n",
      "avg reward for last 100 episodes: 55.6\n",
      "total steps: -5560.0\n",
      "avg reward for last 100 episodes: 59.7\n",
      "total steps: -5970.0\n",
      "avg reward for last 100 episodes: 63.6\n",
      "total steps: -6360.0\n",
      "avg reward for last 100 episodes: 66.8666666667\n",
      "total steps: -6686.66666667\n",
      "avg reward for last 100 episodes: 70.4333333333\n",
      "total steps: -7043.33333333\n",
      "avg reward for last 100 episodes: 74.8666666667\n",
      "total steps: -7486.66666667\n",
      "avg reward for last 100 episodes: 78.8\n",
      "total steps: -7880.0\n",
      "avg reward for last 100 episodes: 82.2\n",
      "total steps: -8220.0\n",
      "avg reward for last 100 episodes: 86.6333333333\n",
      "total steps: -8663.33333333\n",
      "avg reward for last 100 episodes: 90.7333333333\n",
      "total steps: -9073.33333333\n",
      "avg reward for last 100 episodes: 94.1333333333\n",
      "total steps: -9413.33333333\n",
      "avg reward for last 100 episodes: 98.3666666667\n",
      "total steps: -9836.66666667\n",
      "avg reward for last 100 episodes: 102.633333333\n",
      "total steps: -10263.3333333\n",
      "avg reward for last 100 episodes: 106.033333333\n",
      "total steps: -10603.3333333\n",
      "avg reward for last 100 episodes: 110.133333333\n",
      "total steps: -11013.3333333\n",
      "avg reward for last 100 episodes: 112.866666667\n",
      "total steps: -11286.6666667\n",
      "avg reward for last 100 episodes: 116.433333333\n",
      "total steps: -11643.3333333\n",
      "avg reward for last 100 episodes: 120.366666667\n",
      "total steps: -12036.6666667\n",
      "avg reward for last 100 episodes: 124.433333333\n",
      "total steps: -12443.3333333\n",
      "avg reward for last 100 episodes: 127.366666667\n",
      "total steps: -12736.6666667\n",
      "avg reward for last 100 episodes: 131.266666667\n",
      "total steps: -13126.6666667\n",
      "avg reward for last 100 episodes: 135.166666667\n",
      "total steps: -13516.6666667\n",
      "avg reward for last 100 episodes: 139.466666667\n",
      "total steps: -13946.6666667\n",
      "avg reward for last 100 episodes: 143.733333333\n",
      "total steps: -14373.3333333\n",
      "avg reward for last 100 episodes: 148.333333333\n",
      "total steps: -14833.3333333\n",
      "avg reward for last 100 episodes: 152.3\n",
      "total steps: -15230.0\n",
      "avg reward for last 100 episodes: 155.9\n",
      "total steps: -15590.0\n",
      "avg reward for last 100 episodes: 159.8\n",
      "total steps: -15980.0\n",
      "avg reward for last 100 episodes: 164.066666667\n",
      "total steps: -16406.6666667\n",
      "avg reward for last 100 episodes: 167.633333333\n",
      "total steps: -16763.3333333\n",
      "avg reward for last 100 episodes: 172.233333333\n",
      "total steps: -17223.3333333\n",
      "avg reward for last 100 episodes: 176.666666667\n",
      "total steps: -17666.6666667\n",
      "avg reward for last 100 episodes: 179.9\n",
      "total steps: -17990.0\n",
      "avg reward for last 100 episodes: 183.133333333\n",
      "total steps: -18313.3333333\n",
      "avg reward for last 100 episodes: 187.733333333\n",
      "total steps: -18773.3333333\n",
      "avg reward for last 100 episodes: 191.833333333\n",
      "total steps: -19183.3333333\n",
      "avg reward for last 100 episodes: 194.9\n",
      "total steps: -19490.0\n",
      "avg reward for last 100 episodes: 198.8\n",
      "total steps: -19880.0\n",
      "avg reward for last 100 episodes: 202.033333333\n",
      "total steps: -20203.3333333\n",
      "avg reward for last 100 episodes: 205.933333333\n",
      "total steps: -20593.3333333\n",
      "avg reward for last 100 episodes: 209.7\n",
      "total steps: -20970.0\n",
      "avg reward for last 100 episodes: 213.3\n",
      "total steps: -21330.0\n",
      "avg reward for last 100 episodes: 217.4\n",
      "total steps: -21740.0\n",
      "avg reward for last 100 episodes: 221.3\n",
      "total steps: -22130.0\n",
      "avg reward for last 100 episodes: 225.733333333\n",
      "total steps: -22573.3333333\n",
      "avg reward for last 100 episodes: 229.833333333\n",
      "total steps: -22983.3333333\n",
      "avg reward for last 100 episodes: 233.766666667\n",
      "total steps: -23376.6666667\n",
      "avg reward for last 100 episodes: 238.2\n",
      "total steps: -23820.0\n",
      "avg reward for last 100 episodes: 242.3\n",
      "total steps: -24230.0\n",
      "avg reward for last 100 episodes: 245.9\n",
      "total steps: -24590.0\n",
      "avg reward for last 100 episodes: 249.666666667\n",
      "total steps: -24966.6666667\n",
      "avg reward for last 100 episodes: 253.566666667\n",
      "total steps: -25356.6666667\n",
      "avg reward for last 100 episodes: 257.466666667\n",
      "total steps: -25746.6666667\n",
      "avg reward for last 100 episodes: 262.066666667\n",
      "total steps: -26206.6666667\n",
      "avg reward for last 100 episodes: 266.166666667\n",
      "total steps: -26616.6666667\n",
      "avg reward for last 100 episodes: 270.4\n",
      "total steps: -27040.0\n",
      "avg reward for last 100 episodes: 274.333333333\n",
      "total steps: -27433.3333333\n",
      "avg reward for last 100 episodes: 277.933333333\n",
      "total steps: -27793.3333333\n",
      "avg reward for last 100 episodes: 282.866666667\n",
      "total steps: -28286.6666667\n",
      "avg reward for last 100 episodes: 286.966666667\n",
      "total steps: -28696.6666667\n",
      "avg reward for last 100 episodes: 291.066666667\n",
      "total steps: -29106.6666667\n",
      "avg reward for last 100 episodes: 295.7\n",
      "total steps: -29570.0\n",
      "avg reward for last 100 episodes: 299.8\n",
      "total steps: -29980.0\n",
      "avg reward for last 100 episodes: 303.7\n",
      "total steps: -30370.0\n",
      "avg reward for last 100 episodes: 307.966666667\n",
      "total steps: -30796.6666667\n",
      "avg reward for last 100 episodes: 311.866666667\n",
      "total steps: -31186.6666667\n",
      "avg reward for last 100 episodes: 316.8\n",
      "total steps: -31680.0\n",
      "avg reward for last 100 episodes: 320.4\n",
      "total steps: -32040.0\n",
      "avg reward for last 100 episodes: 324.666666667\n",
      "total steps: -32466.6666667\n",
      "avg reward for last 100 episodes: 328.9\n",
      "total steps: -32890.0\n",
      "avg reward for last 100 episodes: 332.8\n",
      "total steps: -33280.0\n",
      "avg reward for last 100 episodes: 337.733333333\n",
      "total steps: -33773.3333333\n",
      "avg reward for last 100 episodes: 342.333333333\n",
      "total steps: -34233.3333333\n",
      "avg reward for last 100 episodes: 346.233333333\n",
      "total steps: -34623.3333333\n",
      "avg reward for last 100 episodes: 350.533333333\n",
      "total steps: -35053.3333333\n",
      "avg reward for last 100 episodes: 354.433333333\n",
      "total steps: -35443.3333333\n",
      "avg reward for last 100 episodes: 359.366666667\n",
      "total steps: -35936.6666667\n",
      "avg reward for last 100 episodes: 363.466666667\n",
      "total steps: -36346.6666667\n",
      "avg reward for last 100 episodes: 366.866666667\n",
      "total steps: -36686.6666667\n",
      "avg reward for last 100 episodes: 370.766666667\n",
      "total steps: -37076.6666667\n",
      "avg reward for last 100 episodes: 375.7\n",
      "total steps: -37570.0\n",
      "avg reward for last 100 episodes: 380.133333333\n",
      "total steps: -38013.3333333\n",
      "avg reward for last 100 episodes: 384.733333333\n",
      "total steps: -38473.3333333\n",
      "avg reward for last 100 episodes: 389.0\n",
      "total steps: -38900.0\n",
      "avg reward for last 100 episodes: 392.766666667\n",
      "total steps: -39276.6666667\n",
      "avg reward for last 100 episodes: 396.666666667\n",
      "total steps: -39666.6666667\n",
      "episode: 99 total reward: 460.0\n",
      "avg reward for last 100 episodes: 401.266666667\n",
      "total steps: -40126.6666667\n",
      "['1w ', '3 ', '5 ', '6 ']\n",
      "['2 ', '4 ', '7 ', '8 ']\n",
      "['10 ', '12 ', '15 ', '16 ']\n",
      "['9w ', '11 ', '13 ', '14 ']\n"
     ]
    },
    {
     "data": {
      "image/png": "[encoded data removed]",
      "text/plain": [
       "<matplotlib.figure.Figure at 0x1106d3e80>"
      ]
     },
     "metadata": {},
     "output_type": "display_data"
    }
   ],
   "source": [
    "main()"
   ]
  },
  {
   "cell_type": "code",
   "execution_count": null,
   "metadata": {
    "collapsed": true
   },
   "outputs": [],
   "source": []
  }
 ],
 "metadata": {
  "kernelspec": {
   "display_name": "Python 3",
   "language": "python",
   "name": "python3"
  },
  "language_info": {
   "codemirror_mode": {
    "name": "ipython",
    "version": 3
   },
   "file_extension": ".py",
   "mimetype": "text/x-python",
   "name": "python",
   "nbconvert_exporter": "python",
   "pygments_lexer": "ipython3",
   "version": "3.6.3"
  }
 },
 "nbformat": 4,
 "nbformat_minor": 2
}
