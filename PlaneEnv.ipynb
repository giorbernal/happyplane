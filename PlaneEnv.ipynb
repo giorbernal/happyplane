{
 "cells": [
  {
   "cell_type": "code",
   "execution_count": 12,
   "metadata": {
    "collapsed": true
   },
   "outputs": [],
   "source": [
    "# Define an environment at OpenAI style"
   ]
  },
  {
   "cell_type": "code",
   "execution_count": 13,
   "metadata": {
    "collapsed": true
   },
   "outputs": [],
   "source": [
    "import random as rnd\n",
    "import numpy as np"
   ]
  },
  {
   "cell_type": "code",
   "execution_count": 14,
   "metadata": {
    "collapsed": true
   },
   "outputs": [],
   "source": [
    "class Passenger:\n",
    "    def __init__(self, pid):\n",
    "        self.id=pid\n",
    "        self.isWindower=str(self.id).endswith('w')\n",
    "        self.position=None\n",
    "        self.status=0 # 0:'QUEUED_TO_BOARD', 1:'NEXT_TO_BOARD', 2:'PLACED_IN_PLANE'"
   ]
  },
  {
   "cell_type": "code",
   "execution_count": 15,
   "metadata": {
    "collapsed": true
   },
   "outputs": [],
   "source": [
    "class PassengerList:\n",
    "    def __init__(self, groups):\n",
    "        self.groups=groups.copy()\n",
    "        self.index_group=0\n",
    "        self.index_passenger_ingroup=0\n",
    "        self.completed=False\n",
    "        self.groups[0][0].status=1\n",
    "    \n",
    "    def getNextAndUpdate(self):\n",
    "        current_passenger = self.getNext()\n",
    "        if current_passenger is None:\n",
    "            return None\n",
    "        else:\n",
    "            self.index_passenger_ingroup = (self.index_passenger_ingroup + 1) % len(self.groups[self.index_group])\n",
    "            if (self.index_passenger_ingroup == 0):\n",
    "                self.index_group = (self.index_group + 1) % len(self.groups)\n",
    "                if (self.index_group == 0):\n",
    "                    self.completed = True\n",
    "            if (self.completed==False):\n",
    "                self.groups[self.index_group][self.index_passenger_ingroup].status=1\n",
    "            return current_passenger\n",
    "    \n",
    "    def getNext(self):\n",
    "        if (self.completed):\n",
    "            return None\n",
    "        else:\n",
    "            return self.groups[self.index_group][self.index_passenger_ingroup]\n",
    "\n",
    "    def canRotate(self):\n",
    "        g = self.groups[self.index_group]\n",
    "        if (g[self.index_passenger_ingroup].isWindower):\n",
    "            return False\n",
    "        else:\n",
    "            size = len(g)\n",
    "            for i in range(self.index_passenger_ingroup+1,size):\n",
    "                if (g[i].isWindower):\n",
    "                    return True\n",
    "        return False\n",
    "    \n",
    "    def rotate(self):\n",
    "        if (self.canRotate()):\n",
    "            g = self.groups[self.index_group]\n",
    "            size = len(g)\n",
    "            p = g[self.index_passenger_ingroup]\n",
    "            for i in range(self.index_passenger_ingroup+1,size):\n",
    "                g[i-1]=g[i]\n",
    "            g[size-1]=p\n",
    "            return True\n",
    "        else:\n",
    "            return False\n"
   ]
  },
  {
   "cell_type": "code",
   "execution_count": 33,
   "metadata": {
    "collapsed": true
   },
   "outputs": [],
   "source": [
    "class Plane:\n",
    "    def __init__(self, plane_dims):\n",
    "        self.plane_dims=plane_dims\n",
    "        self.plane=[]\n",
    "        for i in range(plane_dims[0]):\n",
    "            row = [None for j in range(plane_dims[1])]\n",
    "            self.plane.append(row)\n",
    "    \n",
    "    def roomInRow(self,row_num):\n",
    "        if (self.plane[row_num][-1]==None):\n",
    "            return True\n",
    "        else:\n",
    "            return False\n",
    "    \n",
    "    def setPassengerInRow(self, passenger, row_num):\n",
    "        for i in range(self.plane_dims[1]):\n",
    "            if (self.plane[row_num][i] is None):\n",
    "                self.plane[row_num][i] = passenger\n",
    "                passenger.position=(row_num,i)\n",
    "                passenger.status=2\n",
    "                return\n",
    "            \n",
    "    def getPosition(self, passenger):\n",
    "        for i in range(self.plane_dims[0]):\n",
    "            for j in range(self.plane_dims[1]):\n",
    "                if (self.plane[i][j] is not None):\n",
    "                    if (self.plane[i][j].id == passenger.id):\n",
    "                        return (i,j)\n",
    "        return (0, 0)\n",
    "    \n",
    "    def drawPlane(self):\n",
    "        for i in range(self.plane_dims[0]):\n",
    "            row=[(str(x.id) + \" \") for x in self.plane[i]]\n",
    "            print(row)"
   ]
  },
  {
   "cell_type": "code",
   "execution_count": 34,
   "metadata": {},
   "outputs": [],
   "source": [
    "class PlaneEnv:\n",
    "    def __init__(self, file_name):\n",
    "        self.file_name=file_name\n",
    "        self.reset()\n",
    "\n",
    "    def reset(self):\n",
    "        file = open(self.file_name, 'r')\n",
    "        \n",
    "        # read plane dimensions\n",
    "        plane_dims=[int(x) for x in file.readline().replace('\\n','').split(' ')]\n",
    "        \n",
    "        # read Groups\n",
    "        self.Groups = []\n",
    "        more_groups = True\n",
    "        while more_groups:\n",
    "            line = file.readline()\n",
    "            if line is not '':\n",
    "                passengers = [Passenger(x) for x in line.replace('\\n','').split(' ')]\n",
    "                self.Groups.append(passengers)\n",
    "            else:\n",
    "                more_groups = False\n",
    "        self.passengerList = PassengerList(self.Groups)\n",
    "        \n",
    "        # End reading\n",
    "        file.close()\n",
    "\n",
    "        # Creating Empty Plane\n",
    "        self.plane = Plane(plane_dims)\n",
    "        \n",
    "        # set actions\n",
    "        self.actions=[]\n",
    "        for i in range(plane_dims[0]):\n",
    "            self.actions.append(i) # insert passanger at i row\n",
    "        self.actions.append(plane_dims[0]) # state for rotating passanger in group\n",
    "            \n",
    "    # retrieve number of actions\n",
    "    def action_space_n(self):\n",
    "        return len(self.actions)\n",
    "    \n",
    "    # retrieve a random action.\n",
    "    def action_space_sample(self):\n",
    "        valid_action = False\n",
    "        action = None\n",
    "        while valid_action==False:\n",
    "            action = self.actions[rnd.randint(0,self.action_space_n()-1)]\n",
    "            if (action < self.action_space_n()-1):\n",
    "                if (self.plane.roomInRow(action)):\n",
    "                    valid_action = True\n",
    "            elif (action == self.action_space_n()-1 & self.passengerList.canRotate() ):\n",
    "                valid_action = True\n",
    "        return action\n",
    "    \n",
    "    # Run a step. Return: observation (std normalized), reward, done\n",
    "    def step(self, action):\n",
    "        # Action execution\n",
    "        if (action == self.action_space_n()):\n",
    "            if (self.passengerList.canRotate()):\n",
    "                self.passengerList.rotate()\n",
    "            else:\n",
    "                print(\"WARN: rotate group \" + self.index_group + \" is not possible!\")\n",
    "        else:\n",
    "            if ( self.plane.roomInRow(action) ):\n",
    "                passenger = self.passengerList.getNextAndUpdate()\n",
    "                if (passenger is not None):\n",
    "                    self.plane.setPassengerInRow(passenger, action)\n",
    "                else:\n",
    "                    print(\"WARN: there is no more passenger for boarding\")\n",
    "            else:\n",
    "                print(\"WARN: there is not room in row \" + action)\n",
    "\n",
    "        # Check if episode is finished\n",
    "        done = self.passengerList.completed\n",
    "\n",
    "        # Reward evaluation. Only after the end\n",
    "        reward = 0\n",
    "        if (done):\n",
    "            for group in self.Groups:\n",
    "                reward = reward + self.__groupedLevel__(group)\n",
    "            reward = reward + self.__windowLevel__()\n",
    "        \n",
    "        return (self.__s2x__(), reward, done)\n",
    "    \n",
    "    # Transform state in gaussian normalized vector X\n",
    "    # each passanger in original order: p0 p1 S0 S1 S2 W G0 G1 G2 G3 .. Gn\n",
    "    def __s2x__(self):\n",
    "        p_x = []\n",
    "        nGroups = len(self.Groups)\n",
    "        g_index = 0\n",
    "        for group in self.Groups:\n",
    "            for p in group:\n",
    "                # Position\n",
    "                (posX, posY)=self.plane.getPosition(p)\n",
    "                p_x.append(posX)\n",
    "                p_x.append(posY)\n",
    "                \n",
    "                # state\n",
    "                stsoh = self.__one_hot__(p.status,3)\n",
    "                p_x = self.__append__(p_x, stsoh)\n",
    "                \n",
    "                # window\n",
    "                if (p.isWindower == True):\n",
    "                    p_x.append(1)\n",
    "                else:\n",
    "                    p_x.append(0)\n",
    "                \n",
    "                # group\n",
    "                goh = self.__one_hot__(g_index,nGroups)\n",
    "                p_x = self.__append__(p_x, goh)\n",
    "            g_index = g_index + 1\n",
    "        return np.array(p_x)\n",
    "    \n",
    "    def __one_hot__(self, value, labels):\n",
    "        targets = np.array([value])\n",
    "        ohm = np.zeros((targets.shape[0], labels))\n",
    "        #empty one-hot matrix\n",
    "        ohm[np.arange(targets.shape[0]), targets] = 1\n",
    "        return ohm[0].tolist()\n",
    "    \n",
    "    def __append__(self, init, add):\n",
    "        for c in add:\n",
    "            init.append(c)\n",
    "        return init\n",
    "\n",
    "    # Group Percentage of grouping\n",
    "    def __groupedLevel__(self, group):\n",
    "        id_group = [x.id for x in group]\n",
    "        #print('-> id_group: ' + str(id_group))\n",
    "        g_partial = []\n",
    "        g_total = len(id_group)\n",
    "        for i in range(self.plane.plane_dims[0]):\n",
    "            g_row = 0\n",
    "            for j in range(self.plane.plane_dims[1]):\n",
    "                if (self.plane.plane[i][j].isWindower is not None):\n",
    "                    if (self.plane.plane[i][j].id in id_group):\n",
    "                        #print('---> id: ' + str(i) + ', ' + str(self.plane.plane[i][j].id))\n",
    "                        g_row = g_row + 1\n",
    "            g_partial.append(g_row)\n",
    "        return float(max(g_partial)/g_total)*100\n",
    "    \n",
    "    # Percentage of passangers in window\n",
    "    def __windowLevel__(self):\n",
    "        w_ok = 0\n",
    "        w_total = 0\n",
    "        for i in range(self.plane.plane_dims[0]):\n",
    "            for j in range(self.plane.plane_dims[1]):\n",
    "                if (self.plane.plane[i][j].isWindower is not None):\n",
    "                    if (self.plane.plane[i][j].isWindower):\n",
    "                        w_total = w_total + 1\n",
    "                        if (j == 0):\n",
    "                            w_ok = w_ok + 1\n",
    "        return float(w_ok/w_total)*100"
   ]
  },
  {
   "cell_type": "markdown",
   "metadata": {},
   "source": [
    "## Testing functions"
   ]
  },
  {
   "cell_type": "code",
   "execution_count": 35,
   "metadata": {
    "collapsed": true
   },
   "outputs": [],
   "source": [
    "env = PlaneEnv('plane1.txt')"
   ]
  },
  {
   "cell_type": "code",
   "execution_count": 36,
   "metadata": {},
   "outputs": [
    {
     "data": {
      "text/plain": [
       "1"
      ]
     },
     "execution_count": 36,
     "metadata": {},
     "output_type": "execute_result"
    }
   ],
   "source": [
    "env.action_space_sample()"
   ]
  },
  {
   "cell_type": "code",
   "execution_count": 37,
   "metadata": {},
   "outputs": [
    {
     "name": "stdout",
     "output_type": "stream",
     "text": [
      "1w - 1\n",
      "2 - 0\n",
      "3 - 0\n",
      "4 - 0\n",
      "5 - 0\n",
      "6 - 0\n",
      "7 - 0\n",
      "8 - 0\n",
      "9w - 0\n",
      "10 - 0\n",
      "11 - 0\n",
      "12 - 0\n",
      "13 - 0\n",
      "14 - 0\n",
      "15 - 0\n",
      "16 - 0\n"
     ]
    }
   ],
   "source": [
    "for g in env.Groups:\n",
    "    for p in g:\n",
    "        print(p.id + \" - \" + str(p.status))"
   ]
  },
  {
   "cell_type": "code",
   "execution_count": 38,
   "metadata": {
    "collapsed": true
   },
   "outputs": [],
   "source": [
    "passengers = env.passengerList"
   ]
  },
  {
   "cell_type": "code",
   "execution_count": 39,
   "metadata": {},
   "outputs": [
    {
     "data": {
      "text/plain": [
       "'1w'"
      ]
     },
     "execution_count": 39,
     "metadata": {},
     "output_type": "execute_result"
    }
   ],
   "source": [
    "passengers.getNext().id"
   ]
  },
  {
   "cell_type": "code",
   "execution_count": 40,
   "metadata": {},
   "outputs": [
    {
     "data": {
      "text/plain": [
       "False"
      ]
     },
     "execution_count": 40,
     "metadata": {},
     "output_type": "execute_result"
    }
   ],
   "source": [
    "passengers.canRotate()"
   ]
  },
  {
   "cell_type": "code",
   "execution_count": 41,
   "metadata": {},
   "outputs": [
    {
     "data": {
      "text/plain": [
       "False"
      ]
     },
     "execution_count": 41,
     "metadata": {},
     "output_type": "execute_result"
    }
   ],
   "source": [
    "passengers.rotate()"
   ]
  },
  {
   "cell_type": "code",
   "execution_count": 42,
   "metadata": {
    "collapsed": true
   },
   "outputs": [],
   "source": [
    "#passengers.getNextAndUpdate().id"
   ]
  },
  {
   "cell_type": "code",
   "execution_count": 43,
   "metadata": {},
   "outputs": [
    {
     "name": "stdout",
     "output_type": "stream",
     "text": [
      "id: 1w\n",
      "id: 2\n",
      "id: 3\n",
      "id: 4\n",
      "id: 5\n",
      "id: 6\n",
      "id: 7\n",
      "id: 8\n",
      "id: 9w\n",
      "id: 10\n",
      "id: 11\n",
      "id: 12\n",
      "id: 13\n",
      "id: 14\n",
      "id: 15\n",
      "id: 16\n"
     ]
    }
   ],
   "source": [
    "while (passengers.completed==False):\n",
    "    id=passengers.getNextAndUpdate().id\n",
    "    print(\"id: \" + str(id))"
   ]
  },
  {
   "cell_type": "markdown",
   "metadata": {},
   "source": [
    "## Testing Environment "
   ]
  },
  {
   "cell_type": "code",
   "execution_count": 44,
   "metadata": {
    "collapsed": true
   },
   "outputs": [],
   "source": [
    "env = PlaneEnv('plane1.txt')"
   ]
  },
  {
   "cell_type": "code",
   "execution_count": 77,
   "metadata": {},
   "outputs": [],
   "source": [
    "iters = 200\n",
    "rewards = []\n",
    "for i in range(iters):\n",
    "    env.reset()\n",
    "    done = False\n",
    "    while (done == False):\n",
    "        action = env.action_space_sample()\n",
    "        (x, reward, done) = env.step(action)\n",
    "        #if (i%15):\n",
    "        #    print(x)\n",
    "        \n",
    "    #env.plane.drawPlane()\n",
    "    rewards.append(reward)\n",
    "    #print(\"iter: \" + str(i) + \", reward: \" + str(reward))\n",
    "    #print()\n"
   ]
  },
  {
   "cell_type": "code",
   "execution_count": 78,
   "metadata": {},
   "outputs": [],
   "source": [
    "import matplotlib.pyplot as plt\n",
    "%matplotlib inline"
   ]
  },
  {
   "cell_type": "code",
   "execution_count": 79,
   "metadata": {},
   "outputs": [
    {
     "data": {
      "text/plain": [
       "[<matplotlib.lines.Line2D at 0x105f5aef0>]"
      ]
     },
     "execution_count": 79,
     "metadata": {},
     "output_type": "execute_result"
    },
    {
     "data": {
      "image/png": "[encoded data removed]",
      "text/plain": [
       "<matplotlib.figure.Figure at 0x105f33208>"
      ]
     },
     "metadata": {},
     "output_type": "display_data"
    }
   ],
   "source": [
    "plt.plot(rewards)"
   ]
  },
  {
   "cell_type": "code",
   "execution_count": null,
   "metadata": {
    "collapsed": true
   },
   "outputs": [],
   "source": []
  }
 ],
 "metadata": {
  "kernelspec": {
   "display_name": "Python 3",
   "language": "python",
   "name": "python3"
  },
  "language_info": {
   "codemirror_mode": {
    "name": "ipython",
    "version": 3
   },
   "file_extension": ".py",
   "mimetype": "text/x-python",
   "name": "python",
   "nbconvert_exporter": "python",
   "pygments_lexer": "ipython3",
   "version": "3.6.3"
  }
 },
 "nbformat": 4,
 "nbformat_minor": 2
}
